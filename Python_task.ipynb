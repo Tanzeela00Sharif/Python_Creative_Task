{
  "nbformat": 4,
  "nbformat_minor": 0,
  "metadata": {
    "colab": {
      "provenance": []
    },
    "kernelspec": {
      "name": "python3",
      "display_name": "Python 3"
    },
    "language_info": {
      "name": "python"
    }
  },
  "cells": [
    {
      "cell_type": "markdown",
      "source": [
        "### 1. Create a program that asks the user to input marks for 5 subjects. Calculate the average and assign a grade based on the following:\n",
        "\n",
        "90-100: Grade A\n",
        "\n",
        "80-89: Grade B\n",
        "\n",
        "70-79: Grade C\n",
        "\n",
        "60-69: Grade D\n",
        "\n",
        "Below 60: Fail\n",
        "\n",
        "Concepts Used: if, elif, else, for loop"
      ],
      "metadata": {
        "id": "x4OWbbaNO_79"
      }
    },
    {
      "cell_type": "code",
      "source": [
        "\n",
        "marks=[]\n",
        "for i in range (5):\n",
        "  user_input_marks=int(input(f'enter the student marks {1+i}:'))\n",
        "  marks.append( user_input_marks)\n",
        "  avarage=sum(marks)/5\n",
        "if avarage >= 90:\n",
        "   print('this student as grade A')\n",
        "elif avarage >= 80:\n",
        "  print('this student as grade B')\n",
        "elif avarage >= 70:\n",
        "  print('this student as grade c')\n",
        "elif avarage >= 60:\n",
        "  print('this student as grade D')\n",
        "elif avarage < 60:\n",
        "  print('this student is fail')\n",
        "\n",
        "\n",
        "\n"
      ],
      "metadata": {
        "colab": {
          "base_uri": "https://localhost:8080/"
        },
        "id": "mOyJaK3SPOAi",
        "outputId": "1ce7d315-e785-42b0-be57-12024d4e3454"
      },
      "execution_count": 14,
      "outputs": [
        {
          "output_type": "stream",
          "name": "stdout",
          "text": [
            "enter the student marks 1:93\n",
            "enter the student marks 2:92\n",
            "enter the student marks 3:100\n",
            "enter the student marks 4:98\n",
            "enter the student marks 5:97\n",
            "this student as grade A\n"
          ]
        }
      ]
    },
    {
      "cell_type": "markdown",
      "source": [
        "### Task 2: ATM Pin Verification (while loop with if-else)\n",
        "Objective:\n",
        "Write a program that asks the user to enter a 4-digit PIN. The user has 3 attempts. If the entered PIN matches the correct one, print \"Access Granted\". Otherwise, after 3 failed attempts, print \"Account Blocked\".\n",
        "\n",
        "Concepts Used: while loop, if, else"
      ],
      "metadata": {
        "id": "YaA09bmmWTL2"
      }
    },
    {
      "cell_type": "code",
      "source": [
        "PIN= '3456'\n",
        "attempts = 3\n",
        "while  attempts>0:\n",
        "  input_password =input(f'Enter the 4 digit atm PIN:')\n",
        "  if input_password == PIN:\n",
        "      print(\"Access Granted\")\n",
        "      break\n",
        "  else:\n",
        "    attempts -= 1\n",
        "    print(f'you left one attempt:{attempts}')\n",
        "\n",
        "\n",
        "\n",
        "\n",
        "if attempts==0:\n",
        "  print( \"Account Blocked\")\n"
      ],
      "metadata": {
        "id": "zOe_qKVDWU-T",
        "colab": {
          "base_uri": "https://localhost:8080/"
        },
        "outputId": "b21064cc-02a6-4b92-a43f-66582d857fa2"
      },
      "execution_count": 25,
      "outputs": [
        {
          "output_type": "stream",
          "name": "stdout",
          "text": [
            "Enter the 4 digit atm PIN:1234\n",
            "you left one attempt:2\n",
            "Enter the 4 digit atm PIN:3456\n",
            "Access Granted\n"
          ]
        }
      ]
    },
    {
      "cell_type": "markdown",
      "source": [
        "\n",
        "###3. Ask the user to enter a number n, then use a for loop to check each number from 1 to n and print whether it's odd or even.\n",
        "\n",
        "Concepts Used: for loop, if, else"
      ],
      "metadata": {
        "id": "3Ai2Z5VwYeMD"
      }
    },
    {
      "cell_type": "code",
      "source": [
        "n=int(input(\"enter the input integer:\"))\n",
        "for i in range(0,n+1):\n",
        "  if i %2==0:\n",
        "    print(f'{i} is even number')\n",
        "  else:\n",
        "    print(f\"{i} is odd number\")\n",
        "\n",
        "\n",
        "\n"
      ],
      "metadata": {
        "id": "rWBG42hbYgKe",
        "colab": {
          "base_uri": "https://localhost:8080/"
        },
        "outputId": "43fc3b90-5b9a-42a0-caeb-b00779b5d5eb"
      },
      "execution_count": 35,
      "outputs": [
        {
          "output_type": "stream",
          "name": "stdout",
          "text": [
            "enter the input integer:10\n",
            "0 is even number\n",
            "1 is odd number\n",
            "2 is even number\n",
            "3 is odd number\n",
            "4 is even number\n",
            "5 is odd number\n",
            "6 is even number\n",
            "7 is odd number\n",
            "8 is even number\n",
            "9 is odd number\n",
            "10 is even number\n"
          ]
        }
      ]
    },
    {
      "cell_type": "markdown",
      "source": [
        "\n",
        "###4. Build a calculator that takes two numbers and an operator (+, -, *, /) from the user and performs the correct operation.\n",
        "\n",
        "Concepts Used: if, elif, else"
      ],
      "metadata": {
        "id": "z0019OEqtT-i"
      }
    },
    {
      "cell_type": "code",
      "source": [
        "num_1= float(input('enter the first num:'))\n",
        "num_2= float(input('enter the second num:'))\n",
        "operators =input('enter the operator +,*,/,-:')\n",
        "if operators=='+':\n",
        "  result=num_1 + num_2\n",
        "  print(result)\n",
        "elif operators=='*':\n",
        "  result=num_1 * num_2\n",
        "  print(result)\n",
        "elif operators=='-':\n",
        "  result=num_1 - num_2\n",
        "  print(result)\n",
        "elif operators=='/':\n",
        "  result=num_1 / num_2\n",
        "  print(result)\n",
        "else:\n",
        "  print('there is number less than 0')\n"
      ],
      "metadata": {
        "colab": {
          "base_uri": "https://localhost:8080/"
        },
        "id": "d0yg47bCtRNJ",
        "outputId": "4d4284b8-e7eb-4cdb-ebd5-467fea264102"
      },
      "execution_count": 4,
      "outputs": [
        {
          "output_type": "stream",
          "name": "stdout",
          "text": [
            "enter the first num:12\n",
            "enter the second num:14\n",
            "enter the operator +,*,/,-:-\n",
            "-2.0\n"
          ]
        }
      ]
    },
    {
      "cell_type": "markdown",
      "source": [
        " 5: Password Validator (while with if-else)\n",
        "Objective:\n",
        "Keep asking the user to enter a password until they enter one that is at least 8 characters long and contains both letters and numbers. Once a valid password is entered, print \"Password Accepted\".\n",
        "\n",
        "Concepts Used: while loop, if, else\n",
        "\n"
      ],
      "metadata": {
        "id": "2ylJcw-OuPYa"
      }
    },
    {
      "cell_type": "code",
      "source": [
        "while True:\n",
        "  password_validation =input(\"enter the password:\")\n",
        "  if len( password_validation) <8:\n",
        "    print('password must be 8 charecter:')\n",
        "  has_digit =False\n",
        "  has_letter= False\n",
        "  for chars in  password_validation:\n",
        "    if chars.isalpha():\n",
        "      has_letter =True\n",
        "    elif chars.isdigit():\n",
        "       has_digit =True\n",
        "\n",
        "  if has_letter and  has_digit:\n",
        "    print('password is accepted')\n",
        "    break\n",
        "\n",
        "  else:\n",
        "    print('the password must be 8 digit and contain both letter and digits')\n",
        "\n",
        "\n",
        "\n"
      ],
      "metadata": {
        "colab": {
          "base_uri": "https://localhost:8080/"
        },
        "id": "UZIQflYftST6",
        "outputId": "73a318b8-e9d5-4383-e154-6936377893db"
      },
      "execution_count": 9,
      "outputs": [
        {
          "output_type": "stream",
          "name": "stdout",
          "text": [
            "enter the password:18907\n",
            "password must be 8 charecter:\n",
            "the password must be 8 digit and contain both letter and digits\n",
            "enter the password:mjkiul\n",
            "password must be 8 charecter:\n",
            "the password must be 8 digit and contain both letter and digits\n",
            "enter the password:1234cvbn\n",
            "password is accepted\n"
          ]
        }
      ]
    }
  ]
}